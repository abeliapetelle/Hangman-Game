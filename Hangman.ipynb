{
 "cells": [
  {
   "cell_type": "markdown",
   "metadata": {},
   "source": [
    "# HANGMAN GAME"
   ]
  },
  {
   "cell_type": "code",
   "execution_count": 67,
   "metadata": {},
   "outputs": [],
   "source": [
    "# Make the computer choose a random word which length is minimum 5\n",
    "from random_word import RandomWords\n",
    "\n",
    "def word():\n",
    "    r=RandomWords()\n",
    "    word=r.get_random_word(minLength = 5, hasDictionaryDef=\"true\").upper()\n",
    "    for letter in word:\n",
    "        if letter not in [chr(i) for i in range(97,123)]:\n",
    "            return word\n",
    "        else:\n",
    "            word()\n",
    "            \n",
    "word = word()"
   ]
  },
  {
   "cell_type": "code",
   "execution_count": 69,
   "metadata": {},
   "outputs": [],
   "source": [
    "# Creation of a set that contains the unique letters of the word\n",
    "word_set = set(word)\n",
    "\n",
    "# Creation of a variable that represents the number of letters to find\n",
    "nbr_to_find=len(word_set)\n",
    "\n",
    "# Creation of a list to represent the word\n",
    "word_lst = list(word)\n",
    "\n",
    "# Creation of the player's variables : number of letters found, number of errors, the list that represent the player's result\n",
    "letters_found=0\n",
    "nbr_errors=0\n",
    "player_lst = ['_' for i in word_lst]\n",
    "body_lost=[]\n",
    "\n",
    "# Creation of a list with the body parts of the hangman\n",
    "body=['head', 'body', 'left arm', 'right arm', 'left leg', 'right leg']\n",
    "\n",
    "# Creation of a function that asks the player to choose a letter\n",
    "def player_choice():\n",
    "    choice = input('Enter your letter choice: ')\n",
    "    if choice.isalpha() == True and len(choice)==1:\n",
    "        return choice.upper()\n",
    "    else :\n",
    "        print('You must enter only ONE LETTER')\n",
    "        player_choice()\n",
    "        \n",
    "# Creation of a function that checks if the choosen letter is in the word\n",
    "def check():\n",
    "    x = player_choice()\n",
    "    if x in word_lst:\n",
    "        for i,j in enumerate(word_lst):\n",
    "            if x == j:\n",
    "                player_lst[i]=x                \n",
    "        print(' '.join(player_lst))\n",
    "        print(\"Well done\"+'\\n')\n",
    "        global letters_found\n",
    "        letters_found += 1\n",
    "    else:\n",
    "        global nbr_errors\n",
    "        nbr_errors+=1\n",
    "        body_lost.append(body[nbr_errors-1])\n",
    "        print(\"Too bad...you lost your \" + str(body_lost[-1]))\n",
    "        print(\"So far you have lost your \" + ', '.join(body_lost)+'\\n')\n"
   ]
  },
  {
   "cell_type": "code",
   "execution_count": 70,
   "metadata": {},
   "outputs": [
    {
     "name": "stdout",
     "output_type": "stream",
     "text": [
      "Let's play ! Here is the word you need to find:\n",
      "_ _ _ _ _ _ _ _ _\n",
      "Enter your letter choice: C\n",
      "C _ _ _ _ _ _ _ _\n",
      "Well done\n",
      "\n",
      "Enter your letter choice: t\n",
      "C _ _ _ _ T _ _ T\n",
      "Well done\n",
      "\n",
      "Enter your letter choice: l\n",
      "Too bad...you lost your head\n",
      "So far you have lost your head\n",
      "\n",
      "Enter your letter choice: u\n",
      "C _ _ _ U T _ _ T\n",
      "Well done\n",
      "\n",
      "Enter your letter choice: o\n",
      "C O _ _ U T _ _ T\n",
      "Well done\n",
      "\n",
      "Enter your letter choice: m\n",
      "C O M _ U T _ _ T\n",
      "Well done\n",
      "\n",
      "Enter your letter choice: r\n",
      "Too bad...you lost your body\n",
      "So far you have lost your head, body\n",
      "\n",
      "Enter your letter choice: p\n",
      "C O M P U T _ _ T\n",
      "Well done\n",
      "\n",
      "Enter your letter choice: a\n",
      "C O M P U T A _ T\n",
      "Well done\n",
      "\n",
      "Enter your letter choice: n\n",
      "C O M P U T A N T\n",
      "Well done\n",
      "\n",
      "Congratulations you found it !!\n"
     ]
    }
   ],
   "source": [
    "# Execution of the game\n",
    "\n",
    "print(\"Let's play ! Here is the word you need to find:\")\n",
    "print(' '.join(player_lst))\n",
    "while nbr_errors < len(body) and letters_found < len(word_set):\n",
    "    check()\n",
    "if nbr_errors==len(body):\n",
    "    print(\"YOU ARE DEAD !!! The world to find was \" + ' '.join(word_lst) )\n",
    "else:\n",
    "    print(\"Congratulations you found it !!\")"
   ]
  },
  {
   "cell_type": "code",
   "execution_count": null,
   "metadata": {},
   "outputs": [],
   "source": []
  }
 ],
 "metadata": {
  "kernelspec": {
   "display_name": "Python 3",
   "language": "python",
   "name": "python3"
  },
  "language_info": {
   "codemirror_mode": {
    "name": "ipython",
    "version": 3
   },
   "file_extension": ".py",
   "mimetype": "text/x-python",
   "name": "python",
   "nbconvert_exporter": "python",
   "pygments_lexer": "ipython3",
   "version": "3.7.4"
  }
 },
 "nbformat": 4,
 "nbformat_minor": 2
}
